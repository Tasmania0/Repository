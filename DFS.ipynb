{
 "cells": [
  {
   "cell_type": "markdown",
   "metadata": {},
   "source": [
    "# Depth First Search"
   ]
  },
  {
   "cell_type": "code",
   "execution_count": null,
   "metadata": {},
   "outputs": [],
   "source": [
    "class Node:\n",
    "    def __init__(self, value):\n",
    "        self.value = value\n",
    "        self.left = None\n",
    "        self.right = None\n",
    "\n",
    "def dfs(root, destination, path):\n",
    "    if root is None:\n",
    "        return False\n",
    "\n",
    "    path.append(root.value)\n",
    "\n",
    "    if root.value == destination:\n",
    "        print(\"Path to destination:\", path)\n",
    "        return True\n",
    "\n",
    "    if dfs(root.left, destination, path) or dfs(root.right, destination, path):\n",
    "        return True\n",
    "\n",
    "    path.pop()\n",
    "    return False\n",
    "\n",
    "if __name__ == \"__main__\":\n",
    "    root = Node('A')\n",
    "    root.left = Node('B')\n",
    "    root.right = Node('C')\n",
    "    root.left.left = Node('D')\n",
    "    root.left.right = Node('E')\n",
    "    root.right.left = Node('F')\n",
    "    root.right.right = Node('G')\n",
    "\n",
    "    destination = 'D'\n",
    "    path = []\n",
    "    if not dfs(root, destination, path):\n",
    "        print(\"Destination not found.\")\n"
   ]
  }
 ],
 "metadata": {
  "kernelspec": {
   "display_name": "Python 3",
   "language": "python",
   "name": "python3"
  },
  "language_info": {
   "name": "python",
   "version": "3.12.4"
  }
 },
 "nbformat": 4,
 "nbformat_minor": 2
}
